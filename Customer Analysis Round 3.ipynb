{
 "cells": [
  {
   "cell_type": "code",
   "execution_count": null,
   "id": "e7275389",
   "metadata": {},
   "outputs": [],
   "source": [
    "import pandas as pd\n",
    "\n",
    "import numpy as np\n",
    "\n",
    "pd.set_option('display.max_columns', None)\n",
    "\n",
    "from scipy import stats\n",
    "\n",
    "import warnings\n",
    "\n",
    "warnings.filterwarnings('ignore')\n",
    "\n",
    "import matplotlib.pyplot as plt\n",
    "\n",
    "import seaborn as sns\n",
    "\n",
    "%matplotlib inline\n",
    "\n",
    "from sklearn.preprocessing import Normalizer\n",
    "\n",
    "from sklearn.preprocessing import MinMaxScaler\n",
    "\n",
    "from sklearn.preprocessing import StandardScaler\n",
    "\n",
    "from sklearn.linear_model import LinearRegression\n",
    "\n",
    "from sklearn.metrics import mean_squared_error, r2_score, mean_absolute_error"
   ]
  },
  {
   "cell_type": "code",
   "execution_count": null,
   "id": "68f0e3d3",
   "metadata": {},
   "outputs": [],
   "source": [
    "#1 read dataframe\n",
    "\n",
    "dataframe1 = pd.read_csv(\"marketing_customer_analysis.csv\")\n",
    "dataframe1"
   ]
  },
  {
   "cell_type": "code",
   "execution_count": null,
   "id": "01050b24",
   "metadata": {},
   "outputs": [],
   "source": [
    "#2 show dataframe description \n",
    "\n",
    "dataframe1.describe()"
   ]
  },
  {
   "cell_type": "code",
   "execution_count": null,
   "id": "ee012d7c",
   "metadata": {},
   "outputs": [],
   "source": [
    "#3.b) show total number of responses by sales channel (option 1)\n",
    "\n",
    "dataframe1.groupby(['Response', 'Sales Channel']).size().unstack().plot(kind='bar', stacked=False)"
   ]
  },
  {
   "cell_type": "code",
   "execution_count": null,
   "id": "17493643",
   "metadata": {},
   "outputs": [],
   "source": [
    "#3.b) show total number of responses by sales channel (option 2)\n",
    "dataframe1.groupby(['Sales Channel', 'Response']).size().unstack().plot(kind='bar', stacked=False)"
   ]
  },
  {
   "cell_type": "code",
   "execution_count": null,
   "id": "d069bd1e",
   "metadata": {},
   "outputs": [],
   "source": [
    "# did not get the chart for \"total number of responses\", \"response rate by total claim amount\" and \"response rate by income\". "
   ]
  },
  {
   "cell_type": "code",
   "execution_count": null,
   "id": "2847c888",
   "metadata": {},
   "outputs": [],
   "source": []
  },
  {
   "cell_type": "code",
   "execution_count": null,
   "id": "ac44a49f",
   "metadata": {},
   "outputs": [],
   "source": []
  },
  {
   "cell_type": "code",
   "execution_count": null,
   "id": "c4d33193",
   "metadata": {},
   "outputs": [],
   "source": []
  },
  {
   "cell_type": "code",
   "execution_count": null,
   "id": "ac39b550",
   "metadata": {},
   "outputs": [],
   "source": []
  }
 ],
 "metadata": {
  "kernelspec": {
   "display_name": "Python 3 (ipykernel)",
   "language": "python",
   "name": "python3"
  },
  "language_info": {
   "codemirror_mode": {
    "name": "ipython",
    "version": 3
   },
   "file_extension": ".py",
   "mimetype": "text/x-python",
   "name": "python",
   "nbconvert_exporter": "python",
   "pygments_lexer": "ipython3",
   "version": "3.9.13"
  }
 },
 "nbformat": 4,
 "nbformat_minor": 5
}
